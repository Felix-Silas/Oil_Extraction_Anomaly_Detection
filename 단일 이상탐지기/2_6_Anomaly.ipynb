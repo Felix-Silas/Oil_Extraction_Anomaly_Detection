{
  "nbformat": 4,
  "nbformat_minor": 0,
  "metadata": {
    "colab": {
      "provenance": []
    },
    "kernelspec": {
      "name": "python3",
      "display_name": "Python 3"
    },
    "language_info": {
      "name": "python"
    }
  },
  "cells": [
    {
      "cell_type": "code",
      "execution_count": null,
      "metadata": {
        "colab": {
          "base_uri": "https://localhost:8080/"
        },
        "id": "_gSIyS5lfDZE",
        "outputId": "87d9e5f0-cd0b-44d1-c879-2b79422894c3"
      },
      "outputs": [
        {
          "output_type": "stream",
          "name": "stdout",
          "text": [
            "Mounted at /content/drive\n"
          ]
        }
      ],
      "source": [
        "from google.colab import drive\n",
        "drive.mount('/content/drive')"
      ]
    },
    {
      "cell_type": "code",
      "source": [
        "import numpy as np\n",
        "import pandas as pd\n",
        "import seaborn as sns\n",
        "import matplotlib.pyplot as plt\n",
        "import os\n",
        "import warnings\n",
        "warnings.filterwarnings('ignore')\n",
        "\n",
        "folder_path = '/content/drive/MyDrive/geo/2/'\n",
        "dataframes = []\n",
        "\n",
        "for file_name in os.listdir(folder_path):\n",
        "  file_path = os.path.join(folder_path, file_name)\n",
        "  df = pd.read_csv(file_path)\n",
        "  dataframes.append(df)\n",
        "\n",
        "df_2 = dataframes.copy()\n",
        "from sklearn.preprocessing import RobustScaler, StandardScaler, MinMaxScaler\n",
        "import time\n",
        "\n",
        "whole_data = []\n",
        "for i in range(len(df_2)):\n",
        "  b = df_2[i]\n",
        "  b = b.fillna(method='ffill') # 그외에 결측치가 있을 시 이전 값으로 대체\n",
        "  b['class'] = b['class'].replace(102,0)\n",
        "  b['timestamp'] = pd.to_datetime(b['timestamp'])\n",
        "  b.set_index('timestamp', inplace=True)\n",
        "  # 5초 간격으로 다운 샘플링\n",
        "  b = b.resample('5S').first()\n",
        "  b.reset_index(drop=True, inplace = True)\n",
        "  X = b.drop('class', axis=1)\n",
        "  y = b['class']\n",
        "  # 스케일링을 한 이후에 다른 데이터 프레임과 합치기\n",
        "  scaler = RobustScaler()\n",
        "  b_robust = scaler.fit_transform(X)\n",
        "  b_scale = pd.DataFrame(b_robust, columns=X.columns)\n",
        "  b_scale['class'] = y\n",
        "  whole_data.append(b_scale)\n",
        "\n",
        "# well data 3개를 test로 구분\n",
        "train_df_2 = pd.concat(whole_data[:-3], ignore_index=True)\n",
        "test_df_2 = pd.concat(whole_data[-3:], ignore_index=True)"
      ],
      "metadata": {
        "id": "JS0DmVTsfDyg"
      },
      "execution_count": null,
      "outputs": []
    },
    {
      "cell_type": "code",
      "source": [
        "import numpy as np\n",
        "import pandas as pd\n",
        "import seaborn as sns\n",
        "import matplotlib.pyplot as plt\n",
        "import os\n",
        "import warnings\n",
        "warnings.filterwarnings('ignore')\n",
        "\n",
        "folder_path = '/content/drive/MyDrive/geo/6/'\n",
        "dataframes = []\n",
        "\n",
        "for file_name in os.listdir(folder_path):\n",
        "  file_path = os.path.join(folder_path, file_name)\n",
        "  df = pd.read_csv(file_path)\n",
        "  dataframes.append(df)\n",
        "\n",
        "df_6 = dataframes.copy()\n",
        "from sklearn.preprocessing import RobustScaler, StandardScaler, MinMaxScaler\n",
        "import time\n",
        "\n",
        "whole_data_6 = []\n",
        "for i in range(len(df_6)):\n",
        "  b = df_6[i]\n",
        "  b = b.fillna(method='ffill') # 그외에 결측치가 있을 시 이전 값으로 대체\n",
        "  b['class'] = b['class'].replace(106,0)\n",
        "  b['timestamp'] = pd.to_datetime(b['timestamp'])\n",
        "  b.set_index('timestamp', inplace=True)\n",
        "  # 5초 간격으로 다운 샘플링\n",
        "  b = b.resample('5S').first()\n",
        "  b.reset_index(drop=True, inplace = True)\n",
        "  X = b.drop('class', axis=1)\n",
        "  y = b['class']\n",
        "  # 스케일링을 한 이후에 다른 데이터 프레임과 합치기\n",
        "  scaler = RobustScaler()\n",
        "  b_robust = scaler.fit_transform(X)\n",
        "  b_scale = pd.DataFrame(b_robust, columns=X.columns)\n",
        "  b_scale['class'] = y\n",
        "  whole_data_6.append(b_scale)\n",
        "\n",
        "# well data 3개를 test로 구분\n",
        "train_df_6 = pd.concat(whole_data_6[:-3], ignore_index=True)\n",
        "test_df_6 = pd.concat(whole_data_6[-3:], ignore_index=True)"
      ],
      "metadata": {
        "id": "ajSo8ewBftrf"
      },
      "execution_count": null,
      "outputs": []
    },
    {
      "cell_type": "code",
      "source": [
        "import numpy as np\n",
        "import pandas as pd\n",
        "import seaborn as sns\n",
        "import matplotlib.pyplot as plt\n",
        "import os\n",
        "import warnings\n",
        "warnings.filterwarnings('ignore')\n",
        "\n",
        "folder_path = '/content/drive/MyDrive/geo/8/'\n",
        "dataframes = []\n",
        "\n",
        "for file_name in os.listdir(folder_path):\n",
        "  file_path = os.path.join(folder_path, file_name)\n",
        "  df = pd.read_csv(file_path)\n",
        "  dataframes.append(df)\n",
        "\n",
        "df_8 = dataframes.copy()\n",
        "from sklearn.preprocessing import RobustScaler, StandardScaler, MinMaxScaler\n",
        "import time\n",
        "\n",
        "whole_data_8 = []\n",
        "for i in range(len(df_8)):\n",
        "  b = df_8[i]\n",
        "  b = b.fillna(method='ffill') # 그외에 결측치가 있을 시 이전 값으로 대체\n",
        "  b['class'] = b['class'].replace(108,0)\n",
        "  b['timestamp'] = pd.to_datetime(b['timestamp'])\n",
        "  b.set_index('timestamp', inplace=True)\n",
        "  # 5초 간격으로 다운 샘플링\n",
        "  b = b.resample('5S').first()\n",
        "  b.reset_index(drop=True, inplace = True)\n",
        "  X = b.drop('class', axis=1)\n",
        "  y = b['class']\n",
        "  # 스케일링을 한 이후에 다른 데이터 프레임과 합치기\n",
        "  scaler = StandardScaler()\n",
        "  b_robust = scaler.fit_transform(X)\n",
        "  b_scale = pd.DataFrame(b_robust, columns=X.columns)\n",
        "  b_scale['class'] = y\n",
        "  whole_data_8.append(b_scale)\n",
        "\n",
        "# well data 3개를 test로 구분\n",
        "train_df_8 = pd.concat(whole_data_8[:-3], ignore_index=True)\n",
        "test_df_8 = pd.concat(whole_data_8[-3:], ignore_index=True)"
      ],
      "metadata": {
        "id": "N49Wzd8Nfv9o"
      },
      "execution_count": null,
      "outputs": []
    },
    {
      "cell_type": "code",
      "source": [
        "folder_path = '/content/drive/MyDrive/geo/0/'\n",
        "dataframes = []\n",
        "\n",
        "for file_name in os.listdir(folder_path):\n",
        "  file_path = os.path.join(folder_path, file_name)\n",
        "  df = pd.read_csv(file_path)\n",
        "  dataframes.append(df)\n",
        "\n",
        "df_0 = dataframes.copy()\n",
        "\n",
        "whole_data_0 = []\n",
        "for i in range(len(df_0)):\n",
        "  b = df_0[i]\n",
        "  b = b.fillna(method='ffill') # 그외에 결측치가 있을 시 이전 값으로 대체\n",
        "  b['timestamp'] = pd.to_datetime(b['timestamp'])\n",
        "  b.set_index('timestamp', inplace=True)\n",
        "  # 5초 간격으로 다운 샘플링\n",
        "  b = b.resample('5S').first()\n",
        "  b.reset_index(drop=True, inplace = True)\n",
        "  X = b.drop('class', axis=1)\n",
        "  y = b['class']\n",
        "  # 스케일링을 한 이후에 다른 데이터 프레임과 합치기\n",
        "  scaler = RobustScaler()\n",
        "  b_robust = scaler.fit_transform(X)\n",
        "  b_scale = pd.DataFrame(b_robust, columns=X.columns)\n",
        "  b_scale['class'] = y\n",
        "  whole_data_0.append(b_scale)\n",
        "\n",
        "train_df_0 = pd.concat(whole_data_0, ignore_index=True)"
      ],
      "metadata": {
        "id": "aonmYEnzgIyZ"
      },
      "execution_count": null,
      "outputs": []
    },
    {
      "cell_type": "code",
      "source": [
        "import lightgbm as lgb\n",
        "import time\n",
        "from sklearn.metrics import f1_score\n",
        "from sklearn.metrics import confusion_matrix\n",
        "\n",
        "result_df_2 = pd.concat([train_df_0, train_df_2], axis=0, ignore_index=True)\n",
        "\n",
        "result_df_2 = result_df_2.dropna(subset=['class'])\n",
        "test_df_2 = test_df_2.dropna(subset=['class'])\n",
        "\n",
        "X_train_2 = result_df_2.drop('class', axis=1)\n",
        "y_train_2 = result_df_2['class']\n",
        "X_test_2 = test_df_2.drop('class', axis=1)\n",
        "y_test_2 = test_df_2['class']\n",
        "\n",
        "\n",
        "start_time = time.time()\n",
        "\n",
        "lgb = lgb.LGBMClassifier(force_row_wise=True)\n",
        "lgb.fit(X_train_2, y_train_2)\n",
        "\n",
        "y_pred_2= lgb.predict(X_test_2)\n",
        "f1 = f1_score(y_test_2, y_pred_2, average='macro')\n",
        "print(\"모델 2 f1 score : \", f1)\n",
        "\n",
        "end_time = time.time()\n",
        "elapsed_time = end_time - start_time\n",
        "\n",
        "print(f\"모델 2 실행 시간: {elapsed_time}초\")\n",
        "print(\"----------------------------------------------------\")\n"
      ],
      "metadata": {
        "colab": {
          "base_uri": "https://localhost:8080/"
        },
        "id": "W9eWACMHgMes",
        "outputId": "24421e18-5553-4a2a-977d-2f476703a9df"
      },
      "execution_count": null,
      "outputs": [
        {
          "output_type": "stream",
          "name": "stdout",
          "text": [
            "[LightGBM] [Info] Number of positive: 61909, number of negative: 1929426\n",
            "[LightGBM] [Info] Total Bins 1697\n",
            "[LightGBM] [Info] Number of data points in the train set: 1991335, number of used features: 7\n",
            "[LightGBM] [Info] [binary:BoostFromScore]: pavg=0.031089 -> initscore=-3.439312\n",
            "[LightGBM] [Info] Start training from score -3.439312\n",
            "모델 2 f1 score :  0.8811046447780748\n",
            "모델 2 실행 시간: 13.568647861480713초\n",
            "----------------------------------------------------\n"
          ]
        }
      ]
    },
    {
      "cell_type": "code",
      "source": [
        "import lightgbm as lgb\n",
        "import time\n",
        "from sklearn.metrics import f1_score\n",
        "from sklearn.metrics import confusion_matrix\n",
        "\n",
        "result_df_6 = pd.concat([train_df_0, train_df_6], axis=0, ignore_index=True)\n",
        "\n",
        "result_df_6 = result_df_6.dropna(subset=['class'])\n",
        "test_df_6 = test_df_6.dropna(subset=['class'])\n",
        "\n",
        "\n",
        "X_train_6 = result_df_6.drop('class', axis=1)\n",
        "y_train_6 = result_df_6['class']\n",
        "X_test_6 = test_df_6.drop('class', axis=1)\n",
        "y_test_6 = test_df_6['class']\n",
        "\n",
        "\n",
        "start_time = time.time()\n",
        "import lightgbm as lgb\n",
        "lgb = lgb.LGBMClassifier(force_row_wise=True)\n",
        "lgb.fit(X_train_6, y_train_6)\n",
        "\n",
        "y_pred_6 = lgb.predict(X_test_6)\n",
        "f1 = f1_score(y_test_6, y_pred_6, average='macro')\n",
        "print(\"모델 6 f1 score : \", f1)\n",
        "\n",
        "end_time = time.time()\n",
        "elapsed_time = end_time - start_time\n",
        "\n",
        "print(f\"모델 6 실행 시간: {elapsed_time}초\")\n",
        "print(\"----------------------------------------------------\")\n",
        "\n"
      ],
      "metadata": {
        "colab": {
          "base_uri": "https://localhost:8080/"
        },
        "id": "tVJndXphSnDT",
        "outputId": "c57a4a8b-efd3-4004-f111-b038ef142e00"
      },
      "execution_count": null,
      "outputs": [
        {
          "output_type": "stream",
          "name": "stdout",
          "text": [
            "[LightGBM] [Info] Number of positive: 768389, number of negative: 2279244\n",
            "[LightGBM] [Info] Total Bins 1594\n",
            "[LightGBM] [Info] Number of data points in the train set: 3047633, number of used features: 7\n",
            "[LightGBM] [Info] [binary:BoostFromScore]: pavg=0.252126 -> initscore=-1.087303\n",
            "[LightGBM] [Info] Start training from score -1.087303\n",
            "모델 6 f1 score :  0.9786232880142018\n",
            "모델 6 실행 시간: 24.750978231430054초\n",
            "----------------------------------------------------\n"
          ]
        }
      ]
    },
    {
      "cell_type": "code",
      "source": [
        "import lightgbm as lgb\n",
        "import time\n",
        "from sklearn.metrics import f1_score\n",
        "from sklearn.metrics import confusion_matrix\n",
        "\n",
        "result_df_8 = pd.concat([train_df_0, train_df_8], axis=0, ignore_index=True)\n",
        "\n",
        "result_df_8 = result_df_8.dropna(subset=['class'])\n",
        "test_df_8 = test_df_8.dropna(subset=['class'])\n",
        "\n",
        "\n",
        "X_train_8 = result_df_8.drop('class', axis=1)\n",
        "y_train_8 = result_df_8['class']\n",
        "X_test_8 = test_df_8.drop('class', axis=1)\n",
        "y_test_8 = test_df_8['class']\n",
        "\n",
        "\n",
        "start_time = time.time()\n",
        "import lightgbm as lgb\n",
        "lgb = lgb.LGBMClassifier(force_row_wise=True)\n",
        "lgb.fit(X_train_8, y_train_8)\n",
        "\n",
        "y_pred_8 = lgb.predict(X_test_8)\n",
        "f1 = f1_score(y_test_8, y_pred_8, average='macro')\n",
        "print(\"모델 8 f1 score : \", f1)\n",
        "\n",
        "end_time = time.time()\n",
        "elapsed_time = end_time - start_time\n",
        "\n",
        "print(f\"모델 8 실행 시간: {elapsed_time}초\")\n",
        "print(\"----------------------------------------------------\")"
      ],
      "metadata": {
        "colab": {
          "base_uri": "https://localhost:8080/"
        },
        "id": "nHON7Z3eTHPU",
        "outputId": "ff836fbb-dc4f-495b-a556-bff86e5c275d"
      },
      "execution_count": null,
      "outputs": [
        {
          "output_type": "stream",
          "name": "stdout",
          "text": [
            "[LightGBM] [Info] Number of positive: 116059, number of negative: 2193548\n",
            "[LightGBM] [Info] Total Bins 1618\n",
            "[LightGBM] [Info] Number of data points in the train set: 2309607, number of used features: 7\n",
            "[LightGBM] [Info] [binary:BoostFromScore]: pavg=0.050251 -> initscore=-2.939177\n",
            "[LightGBM] [Info] Start training from score -2.939177\n",
            "모델 8 f1 score :  0.9522825122208856\n",
            "모델 8 실행 시간: 17.212374687194824초\n",
            "----------------------------------------------------\n"
          ]
        }
      ]
    },
    {
      "cell_type": "code",
      "source": [
        "import seaborn as sns\n",
        "from sklearn.metrics import confusion_matrix\n",
        "\n",
        "cf_matrix = confusion_matrix(y_test_2, y_pred_2)\n",
        "\n",
        "plt.figure(figsize=(3,2))\n",
        "sns.heatmap(cf_matrix, annot=True, cmap='Blues')\n",
        "plt.xlabel('Predicted')\n",
        "plt.ylabel('Actual')\n",
        "plt.title('Class 2')\n",
        "plt.show()"
      ],
      "metadata": {
        "colab": {
          "base_uri": "https://localhost:8080/",
          "height": 256
        },
        "id": "vPQjvwp0EBaK",
        "outputId": "82511753-a460-4ce5-e253-7f61d1c2cff0"
      },
      "execution_count": null,
      "outputs": [
        {
          "output_type": "display_data",
          "data": {
            "text/plain": [
              "<Figure size 300x200 with 2 Axes>"
            ],
            "image/png": "[encoded data removed]"
          },
          "metadata": {}
        }
      ]
    },
    {
      "cell_type": "code",
      "source": [
        "cf_matrix = confusion_matrix(y_test_6, y_pred_6)\n",
        "\n",
        "plt.figure(figsize=(3,2))\n",
        "sns.heatmap(cf_matrix, annot=True, cmap='Blues')\n",
        "plt.xlabel('Predicted')\n",
        "plt.ylabel('Actual')\n",
        "plt.title('Class 6')\n",
        "plt.show()"
      ],
      "metadata": {
        "colab": {
          "base_uri": "https://localhost:8080/",
          "height": 256
        },
        "id": "yj0J0i-iEQTq",
        "outputId": "4fd9f9f3-2a63-41e8-fc63-3a5005a85fd7"
      },
      "execution_count": null,
      "outputs": [
        {
          "output_type": "display_data",
          "data": {
            "text/plain": [
              "<Figure size 300x200 with 2 Axes>"
            ],
            "image/png": "[encoded data removed]"
          },
          "metadata": {}
        }
      ]
    },
    {
      "cell_type": "code",
      "source": [
        "cf_matrix = confusion_matrix(y_test_8, y_pred_8)\n",
        "\n",
        "plt.figure(figsize=(3,2))\n",
        "sns.heatmap(cf_matrix, annot=True, cmap='Blues')\n",
        "plt.xlabel('Predicted')\n",
        "plt.ylabel('Actual')\n",
        "plt.title('Class 8')\n",
        "plt.show()"
      ],
      "metadata": {
        "colab": {
          "base_uri": "https://localhost:8080/",
          "height": 256
        },
        "id": "OlWMSiNRESyv",
        "outputId": "f6807f6d-7b8f-4469-a2ac-8f6b308769f9"
      },
      "execution_count": null,
      "outputs": [
        {
          "output_type": "display_data",
          "data": {
            "text/plain": [
              "<Figure size 300x200 with 2 Axes>"
            ],
            "image/png": "[encoded data removed]"
          },
          "metadata": {}
        }
      ]
    }
  ]
}